{
 "cells": [
  {
   "cell_type": "code",
   "execution_count": null,
   "id": "68f78731",
   "metadata": {},
   "outputs": [],
   "source": [
    "from tensorflow.keras.models import Sequential,load_model\n",
    "from tensorflow.keras.layers import Conv2D, MaxPooling2D, Flatten, Dense, Dropout\n",
    "from keras.utils.np_utils import to_categorical\n",
    "from keras.datasets import mnist\n",
    "import tensorflow as tf\n",
    "import numpy as np\n",
    "import cv2\n",
    "import os\n",
    "import matplotlib.pyplot as plt\n",
    "%matplotlib inline"
   ]
  },
  {
   "cell_type": "code",
   "execution_count": null,
   "id": "d4d7949e",
   "metadata": {},
   "outputs": [],
   "source": [
    "(trainx,trainy),(testx,testy)=mnist.load_data()\n",
    "plt.imshow(trainx[4], cmap=plt.get_cmap('gray'))\n",
    "plt.show()\n",
    "num_classes = 10"
   ]
  },
  {
   "cell_type": "code",
   "execution_count": null,
   "id": "b8a82c76",
   "metadata": {},
   "outputs": [],
   "source": [
    "trainx = trainx.reshape(60000, 28, 28, 1)\n",
    "testx  = testx.reshape(10000, 28, 28, 1)\n",
    "trainx = trainx/255.0\n",
    "testx = testx / 255.0\n",
    "trainy = to_categorical(trainy)\n",
    "testy = to_categorical(testy)"
   ]
  },
  {
   "cell_type": "code",
   "execution_count": null,
   "id": "3dc71c53",
   "metadata": {},
   "outputs": [],
   "source": [
    "model = Sequential()\n",
    "model.add(Conv2D(32, kernel_size=(3, 3),activation='relu', input_shape=(28, 28, 1), padding='same'))\n",
    "model.add(MaxPooling2D(pool_size=(2, 2)))\n",
    "model.add(Conv2D(64, (3, 3), activation='relu', padding='same'))\n",
    "model.add(MaxPooling2D(pool_size=(2, 2)))\n",
    "model.add(Dropout(0.25))\n",
    "model.add(Flatten())\n",
    "model.add(Dense(128, activation='relu'))\n",
    "model.add(Dropout(0.5))\n",
    "model.add(Dense(10, activation='softmax'))\n",
    "model.compile(optimizer='adam', loss='categorical_crossentropy', metrics=['accuracy'])\n",
    "batch_size = 32\n",
    "epochs = 5\n",
    "model.fit(trainx, trainy,batch_size=batch_size,epochs=epochs,verbose=1,validation_data=(testx, testy))"
   ]
  },
  {
   "cell_type": "code",
   "execution_count": null,
   "id": "9ba8b3f9",
   "metadata": {},
   "outputs": [],
   "source": [
    "val_loss, val_acc = model.evaluate(testx, testy)\n",
    "print(val_loss, val_acc)"
   ]
  },
  {
   "cell_type": "code",
   "execution_count": null,
   "id": "2f43c414",
   "metadata": {},
   "outputs": [],
   "source": [
    "model.save('my_cnn_model.h5')"
   ]
  },
  {
   "cell_type": "code",
   "execution_count": null,
   "id": "930910dc",
   "metadata": {},
   "outputs": [],
   "source": [
    "path = \"E:\\Sudoku_Solver\\sudoku_img2.jpg\"\n",
    "img = cv2.imread(path)\n",
    "try:\n",
    "    img = cv2.resize(img,(28*9,28*9))\n",
    "except:\n",
    "    pass\n",
    "imgBlank = np.zeros((28*9,28*9,3), np.uint8)\n",
    "gray = cv2.cvtColor(img, cv2.COLOR_BGR2GRAY)\n",
    "img_blur = cv2.GaussianBlur(gray,(1,1),cv2.BORDER_DEFAULT)\n",
    "thresh = cv2.adaptiveThreshold(img_blur,255,1,1,11,2)\n",
    "#cv2.imshow(\"thresh\", thresh)\n",
    "#cv2.waitKey(0)"
   ]
  },
  {
   "cell_type": "code",
   "execution_count": null,
   "id": "baec60b5",
   "metadata": {},
   "outputs": [],
   "source": [
    "img_contours = img.copy()\n",
    "img_big_contour = img.copy()\n",
    "contours, hierarchy = cv2.findContours(thresh, cv2.RETR_EXTERNAL, cv2.CHAIN_APPROX_SIMPLE)\n",
    "cv2.drawContours(img_contours, contours, -1, (0,255,8), 1)\n",
    "#cv2.imshow(\"img_contours\", img_contours)\n",
    "#cv2.waitKey(0)"
   ]
  },
  {
   "cell_type": "code",
   "execution_count": null,
   "id": "41608ac0",
   "metadata": {},
   "outputs": [],
   "source": [
    "def biggest_contour(contours):\n",
    "    biggest = np.array([])\n",
    "    max_area = 0\n",
    "    for i in contours:\n",
    "        area = cv2.contourArea(i)\n",
    "        if area > 50:\n",
    "            peri = cv2.arcLength(i, True)\n",
    "            approx = cv2.approxPolyDP(i, 0.02 * peri, True)\n",
    "            if area>max_area and len(approx)==4:\n",
    "                biggest = approx\n",
    "                max_area = area\n",
    "    return biggest, max_area"
   ]
  },
  {
   "cell_type": "code",
   "execution_count": null,
   "id": "0b7f6a70",
   "metadata": {},
   "outputs": [],
   "source": [
    "def reorder(myPoints):\n",
    "    myPoints = myPoints.reshape((4,2))\n",
    "    myPointsNew = np.zeros((4,1,2), dtype=np.int32)\n",
    "    add = myPoints.sum(1)\n",
    "    myPointsNew[0] = myPoints[np.argmin(add)]\n",
    "    myPointsNew[3] = myPoints[np.argmax(add)]\n",
    "    diff = np.diff(myPoints, axis=1)\n",
    "    myPointsNew[1] = myPoints[np.argmin(diff)]\n",
    "    myPointsNew[2] = myPoints[np.argmax(diff)]\n",
    "    return myPointsNew"
   ]
  },
  {
   "cell_type": "code",
   "execution_count": null,
   "id": "033dbc02",
   "metadata": {},
   "outputs": [],
   "source": [
    "biggest, maxArea = biggest_contour(contours)\n",
    "if biggest.size != 0:\n",
    "    biggest = reorder(biggest)\n",
    "    cv2.drawContours(img_big_contour, biggest, -1, (8,255,0), 5)\n",
    "    pts1 = np.float32(biggest) # prepare points for Warp\n",
    "    pts2 = np.float32([[0,0], [9*28,0], [0,9*28], [9*28,9*28]]) # prepare points for Warp\n",
    "    matrix = cv2.getPerspectiveTransform(pts1, pts2)\n",
    "    imgWarpedColored = cv2.warpPerspective(img, matrix, (9*28,9*28))\n",
    "    imgDetectedDigits = imgBlank.copy()\n",
    "    imgWarpedColored = cv2.cvtColor(imgWarpedColored, cv2.COLOR_BGR2GRAY)\n",
    "    imgWarpedColored = cv2.adaptiveThreshold(imgWarpedColored, 255, cv2.ADAPTIVE_THRESH_GAUSSIAN_C,cv2.THRESH_BINARY, 21, 4)"
   ]
  },
  {
   "cell_type": "code",
   "execution_count": null,
   "id": "79cbffdd",
   "metadata": {},
   "outputs": [],
   "source": [
    "cv2.imshow(\"img_big_contour\", imgWarpedColored)\n",
    "cv2.waitKey(0)"
   ]
  },
  {
   "cell_type": "code",
   "execution_count": null,
   "id": "d2a8d38c",
   "metadata": {},
   "outputs": [],
   "source": [
    "def splitBoxes(img):\n",
    "    rows = np.vsplit(img,9)\n",
    "    boxes = []\n",
    "    for r in rows:\n",
    "        col = np.hsplit(r, 9)\n",
    "        for box in col:\n",
    "            boxes.append(box)\n",
    "    return boxes"
   ]
  },
  {
   "cell_type": "code",
   "execution_count": null,
   "id": "6b21691f",
   "metadata": {},
   "outputs": [],
   "source": [
    "imgSolvedDigits = imgBlank.copy()\n",
    "boxes = splitBoxes(imgWarpedColored)\n",
    "print(len(boxes))\n",
    "print(type(boxes[0]))\n",
    "print(boxes[0].shape)"
   ]
  },
  {
   "cell_type": "code",
   "execution_count": null,
   "id": "9b60398a",
   "metadata": {},
   "outputs": [],
   "source": [
    "i=0\n",
    "while i < 81:\n",
    "    boxes[i] = cv2.resize(boxes[i][5:25,4:25],(28,28))\n",
    "    \n",
    "    i+=1\n",
    "count = 0\n",
    "for box in boxes:\n",
    "    cv2.imwrite(f\"E:\\\\Sudoku_Solver\\\\SudokuCells\\\\cell{count}.jpg\",box)\n",
    "    count += 1"
   ]
  },
  {
   "cell_type": "code",
   "execution_count": null,
   "id": "1bfb216f",
   "metadata": {},
   "outputs": [],
   "source": [
    "sudoku_model = load_model('my_cnn_model.h5')"
   ]
  },
  {
   "cell_type": "code",
   "execution_count": null,
   "id": "8f1c0363",
   "metadata": {},
   "outputs": [],
   "source": [
    "def predictnums(img):\n",
    "    predicted = sudoku_model.predict_classes(img)\n",
    "    return predicted[0]"
   ]
  },
  {
   "cell_type": "code",
   "execution_count": null,
   "id": "83526262",
   "metadata": {},
   "outputs": [],
   "source": [
    "def avg_brightness(img_array):\n",
    "    rows = 28\n",
    "    cols = 28\n",
    "    sum = 0\n",
    "    for i in range(rows):\n",
    "        for j in range(cols):\n",
    "            sum += img_array[i,j]\n",
    "    avg = sum/(rows*cols)\n",
    "    return avg"
   ]
  },
  {
   "cell_type": "code",
   "execution_count": null,
   "id": "27dbc93b",
   "metadata": {},
   "outputs": [],
   "source": [
    "def sudoku_dig():\n",
    "    rows,columns = 9,9\n",
    "    fig = plt.figure(figsize=(9, 9))\n",
    "    for i in range(0,81):\n",
    "        img_array = cv2.imread(f\"./SudokuCells/cell{i}.jpg\", cv2.IMREAD_GRAYSCALE)\n",
    "        img_array = cv2.bitwise_not(img_array)\n",
    "        img_array = cv2.resize(img_array,(28,28))\n",
    "        img_array = cv2.GaussianBlur(img_array,(1,1),cv2.BORDER_DEFAULT)\n",
    "        proc_img = img_array/255\n",
    "        fig.add_subplot(rows, columns, i+1)\n",
    "        plt.imshow(proc_img, cmap='gray')\n",
    "        plt.axis('off')\n",
    "    plt.show()\n",
    "    \n",
    "    cell_digits,num = [],0\n",
    "    i=0\n",
    "    \n",
    "    #for box in boxes:\n",
    "    for i in range(0,81):\n",
    "        img_array = cv2.imread(f\"./SudokuCells/cell{i}.jpg\", cv2.IMREAD_GRAYSCALE)\n",
    "        img_array = cv2.bitwise_not(img_array)\n",
    "        img_array = cv2.resize(img_array,(28,28))\n",
    "        img_array = cv2.GaussianBlur(img_array,(1,1),cv2.BORDER_DEFAULT)\n",
    "        backtorgb = cv2.cvtColor(img_array.copy(),cv2.COLOR_GRAY2RGB)\n",
    "        hsv = cv2.cvtColor(backtorgb, cv2.COLOR_BGR2HSV)\n",
    "        brightness = avg_brightness(hsv[:,:,2])\n",
    "        print(f\"Brightness{i} : \", brightness)\n",
    "        proc_img = img_array/255\n",
    "        proc_img = proc_img.reshape(-1,28,28,1)\n",
    "        if brightness < 12:\n",
    "            num = 0\n",
    "        else:\n",
    "            num = predictnums(proc_img)\n",
    "        cell_digits.append(num)\n",
    "    n = 9\n",
    "    cell_digits = [cell_digits[i:i+n] for i in range(0, len(cell_digits), n)] \n",
    "    return cell_digits"
   ]
  },
  {
   "cell_type": "code",
   "execution_count": null,
   "id": "84f9007d",
   "metadata": {},
   "outputs": [],
   "source": [
    "def get_board(board_img):\n",
    "    for i in range(len(board_img)):\n",
    "        if i % 3 == 0 and i != 0:\n",
    "            print(\"- - - - - - - - - - - - - \")\n",
    "        for j in range(len(board_img[0])):\n",
    "            if j % 3 == 0 and j != 0:\n",
    "                print(\" | \", end=\"\")\n",
    "            if j == 8:\n",
    "                print(board_img[i][j])\n",
    "            else:\n",
    "                print(str(board_img[i][j]) + \" \", end=\"\")"
   ]
  },
  {
   "cell_type": "code",
   "execution_count": null,
   "id": "22ce0fd9",
   "metadata": {
    "scrolled": true
   },
   "outputs": [],
   "source": [
    "puzzle = sudoku_dig()"
   ]
  },
  {
   "cell_type": "code",
   "execution_count": null,
   "id": "503a327f",
   "metadata": {},
   "outputs": [],
   "source": [
    "get_board(puzzle)"
   ]
  },
  {
   "cell_type": "code",
   "execution_count": null,
   "id": "463762a1",
   "metadata": {},
   "outputs": [],
   "source": []
  }
 ],
 "metadata": {
  "kernelspec": {
   "display_name": "Python 3 (ipykernel)",
   "language": "python",
   "name": "python3"
  },
  "language_info": {
   "codemirror_mode": {
    "name": "ipython",
    "version": 3
   },
   "file_extension": ".py",
   "mimetype": "text/x-python",
   "name": "python",
   "nbconvert_exporter": "python",
   "pygments_lexer": "ipython3",
   "version": "3.8.11"
  }
 },
 "nbformat": 4,
 "nbformat_minor": 5
}
